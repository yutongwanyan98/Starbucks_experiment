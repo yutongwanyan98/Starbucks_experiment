{
 "cells": [
  {
   "cell_type": "markdown",
   "metadata": {},
   "source": [
    "## Portfolio Exercise Starbucks\n",
    "<br>\n",
    "\n",
    "<img src=\"https://opj.ca/wp-content/uploads/2018/02/New-Starbucks-Logo-1200x969.jpg\" width=\"200\" height=\"200\">\n",
    "<br>\n",
    "<br>\n",
    " \n",
    "#### Background Information\n",
    "\n",
    "The dataset you will be provided in this portfolio exercise was originally used as a take-home assignment provided by Starbucks for their candidates.   The data for this exercise consists of about 120,000 data points split in 2:1 ratio among training and test files. Each data point includes one column indicating whether or not an individual was sent a promotion for a specific product, and one column indicating whether or not that individual eventually purchased that product. Each individual also had seven additional features associated with them.\n",
    "\n",
    "#### Optimization Strategy\n",
    "\n",
    "Your task is to use the training data to understand what patterns in V1-V7 to indicate that a promotion should be provided to a user.  Specifically, your goal is to maximize the following metrics:\n",
    "\n",
    "* **Incremental Response Rate (IRR)** \n",
    "\n",
    "Ratio of the number of purchasers in the promotion group to the total number of customers in the purchasers group minus the ratio of the number of purchasers in the non-promotional group to the total number of customers in the non-promotional group.\n",
    "\n",
    "* **Net Incremental Revenue (NIR)**\n",
    "\n",
    "The total number of purchasers that received the promotion times 10 minus the number of promotions given times 0.15 minus the number of purchasers who were not given the promotion times 10.\n",
    "\n",
    "For a full description of what starbucks provides to candidates see the [instructions available here](https://drive.google.com/open?id=18klca9Sef1Rs6q8DW4l7o349r8B70qXM).\n",
    "\n",
    "Below you can find the training data provided.  Explore the data and different optimization strategies.\n",
    "\n",
    "#### How To Test Your Strategy?\n",
    "\n",
    "When you feel like you have an optimization strategy, complete the **promotion_strategy** function to pass to the **test_results** function.  \n",
    "From past data, we know there are four possible outomes:\n",
    "\n",
    "Table of actual promotion vs. predicted promotion customers.  \n",
    "\n",
    "|   | Actual      |    |    | \n",
    "|---|-------------|----|----|\n",
    "| **Predicted**   | Yes| No |  \n",
    "| Yes             | **I**   | **II**|  \n",
    "| No              | **III** | **IV**|  \n",
    "\n",
    "The metrics are only being compared for the individual's we predict should obtain the promotion - that is quadrants I and II here.  Since the first set of individuals that receive the promotion (in the training set) receive it randomly, we can expect that quadrants I and II will have approximately equal participants.  \n",
    "\n",
    "Comparing quadrant I to II then gives an idea of how well your promotion strategy will work in the future. \n",
    "\n",
    "\n",
    "Get started by reading in the data below.  See how each variable or combination of variables along with a promotion influences the chance of purchasing.  When you feel like you have a strategy for who should receive a promotion, test your strategy against the test dataset used in the final test_results function."
   ]
  },
  {
   "cell_type": "code",
   "execution_count": 24,
   "metadata": {},
   "outputs": [
    {
     "output_type": "execute_result",
     "data": {
      "text/plain": [
       "   ID Promotion  purchase  V1         V2        V3  V4  V5  V6  V7\n",
       "0   1        No         0   2  30.443518 -1.165083   1   1   3   2\n",
       "1   3        No         0   3  32.159350 -0.645617   2   3   2   2\n",
       "2   4        No         0   2  30.431659  0.133583   1   1   4   2\n",
       "3   5        No         0   0  26.588914 -0.212728   2   1   4   2\n",
       "4   8       Yes         0   3  28.044332 -0.385883   1   1   2   2"
      ],
      "text/html": "<div>\n<style scoped>\n    .dataframe tbody tr th:only-of-type {\n        vertical-align: middle;\n    }\n\n    .dataframe tbody tr th {\n        vertical-align: top;\n    }\n\n    .dataframe thead th {\n        text-align: right;\n    }\n</style>\n<table border=\"1\" class=\"dataframe\">\n  <thead>\n    <tr style=\"text-align: right;\">\n      <th></th>\n      <th>ID</th>\n      <th>Promotion</th>\n      <th>purchase</th>\n      <th>V1</th>\n      <th>V2</th>\n      <th>V3</th>\n      <th>V4</th>\n      <th>V5</th>\n      <th>V6</th>\n      <th>V7</th>\n    </tr>\n  </thead>\n  <tbody>\n    <tr>\n      <th>0</th>\n      <td>1</td>\n      <td>No</td>\n      <td>0</td>\n      <td>2</td>\n      <td>30.443518</td>\n      <td>-1.165083</td>\n      <td>1</td>\n      <td>1</td>\n      <td>3</td>\n      <td>2</td>\n    </tr>\n    <tr>\n      <th>1</th>\n      <td>3</td>\n      <td>No</td>\n      <td>0</td>\n      <td>3</td>\n      <td>32.159350</td>\n      <td>-0.645617</td>\n      <td>2</td>\n      <td>3</td>\n      <td>2</td>\n      <td>2</td>\n    </tr>\n    <tr>\n      <th>2</th>\n      <td>4</td>\n      <td>No</td>\n      <td>0</td>\n      <td>2</td>\n      <td>30.431659</td>\n      <td>0.133583</td>\n      <td>1</td>\n      <td>1</td>\n      <td>4</td>\n      <td>2</td>\n    </tr>\n    <tr>\n      <th>3</th>\n      <td>5</td>\n      <td>No</td>\n      <td>0</td>\n      <td>0</td>\n      <td>26.588914</td>\n      <td>-0.212728</td>\n      <td>2</td>\n      <td>1</td>\n      <td>4</td>\n      <td>2</td>\n    </tr>\n    <tr>\n      <th>4</th>\n      <td>8</td>\n      <td>Yes</td>\n      <td>0</td>\n      <td>3</td>\n      <td>28.044332</td>\n      <td>-0.385883</td>\n      <td>1</td>\n      <td>1</td>\n      <td>2</td>\n      <td>2</td>\n    </tr>\n  </tbody>\n</table>\n</div>"
     },
     "metadata": {},
     "execution_count": 24
    }
   ],
   "source": [
    "# load in packages\n",
    "from itertools import combinations\n",
    "\n",
    "from test_results import test_results, score\n",
    "import numpy as np\n",
    "import pandas as pd\n",
    "#import scipy as sp\n",
    "import scipy.stats as stats\n",
    "import sklearn as sk\n",
    "from statsmodels.stats import proportion as proptests\n",
    "\n",
    "import matplotlib.pyplot as plt\n",
    "import seaborn as sb\n",
    "%matplotlib inline\n",
    "\n",
    "# load in the data\n",
    "train_data = pd.read_csv('data/training.csv')\n",
    "train_data.head()"
   ]
  },
  {
   "cell_type": "code",
   "execution_count": 5,
   "metadata": {},
   "outputs": [
    {
     "output_type": "execute_result",
     "data": {
      "text/plain": [
       "(84534, 10)"
      ]
     },
     "metadata": {},
     "execution_count": 5
    }
   ],
   "source": [
    "train_data.shape"
   ]
  },
  {
   "cell_type": "code",
   "execution_count": null,
   "metadata": {},
   "outputs": [],
   "source": [
    "# Cells for you to work and document as necessary - \n",
    "# definitely feel free to add more cells as you need"
   ]
  },
  {
   "cell_type": "markdown",
   "metadata": {},
   "source": [
    "## Analyze the result of the experinment and identify effect of the treatment for key metrics \n",
    "\n",
    "- IRR\n",
    "- NIR\n"
   ]
  },
  {
   "cell_type": "code",
   "execution_count": 8,
   "metadata": {},
   "outputs": [
    {
     "output_type": "stream",
     "name": "stdout",
     "text": [
      "<class 'pandas.core.frame.DataFrame'>\nRangeIndex: 84534 entries, 0 to 84533\nData columns (total 10 columns):\n #   Column     Non-Null Count  Dtype  \n---  ------     --------------  -----  \n 0   ID         84534 non-null  int64  \n 1   Promotion  84534 non-null  object \n 2   purchase   84534 non-null  int64  \n 3   V1         84534 non-null  int64  \n 4   V2         84534 non-null  float64\n 5   V3         84534 non-null  float64\n 6   V4         84534 non-null  int64  \n 7   V5         84534 non-null  int64  \n 8   V6         84534 non-null  int64  \n 9   V7         84534 non-null  int64  \ndtypes: float64(2), int64(7), object(1)\nmemory usage: 6.4+ MB\n"
     ]
    }
   ],
   "source": [
    "# explorative analysis\n",
    "train_data.info()\n"
   ]
  },
  {
   "cell_type": "code",
   "execution_count": 13,
   "metadata": {},
   "outputs": [
    {
     "output_type": "stream",
     "name": "stdout",
     "text": [
      "42364 42170\n"
     ]
    }
   ],
   "source": [
    "# treatment group and control group \n",
    "# first, make sure two groups are approximately the same \n",
    "\n",
    "train_t = train_data[train_data['Promotion'] == 'Yes']\n",
    "train_c = train_data[train_data['Promotion'] == 'No']\n",
    "print(train_t.shape[0],train_c.shape[0])"
   ]
  },
  {
   "cell_type": "code",
   "execution_count": null,
   "metadata": {},
   "outputs": [],
   "source": [
    "# Visualize \n",
    "\n"
   ]
  },
  {
   "cell_type": "code",
   "execution_count": 16,
   "metadata": {},
   "outputs": [
    {
     "output_type": "stream",
     "name": "stdout",
     "text": [
      "P-value: 0.507 - Fail to reject H0; two groups have roughly same # of observations.\n"
     ]
    }
   ],
   "source": [
    "# test if proportion of two groups are approximately 0.5 vs 0.5\n",
    "def proportion_test(count,nobs):\n",
    "    p_val = proptests.binom_test(\n",
    "        count+0.5,\n",
    "        nobs,\n",
    "        prop =0.5,\n",
    "        alternative = 'two-sided'\n",
    "    )\n",
    "    \n",
    "    if p_val*2 < 0.05:\n",
    "        print(f'P-value: {round(p_val,3)} - Statistically significant; reject H0.')\n",
    "    else:\n",
    "        print(f'P-value: {round(p_val,3)} - Fail to reject H0; two groups have roughly same # of observations.')\n",
    "\n",
    "proportion_test(train_t.shape[0], train_data.shape[0])"
   ]
  },
  {
   "cell_type": "code",
   "execution_count": 25,
   "metadata": {},
   "outputs": [
    {
     "output_type": "stream",
     "name": "stdout",
     "text": [
      "P-value: 0.0\nZ-score: 12.468\nReject H0; There is a significant difference.\n"
     ]
    }
   ],
   "source": [
    "# Identified promotion's effect on IRR \n",
    "\n",
    "# Ho: IRRs of treatment group and control group has no difference \n",
    "\n",
    "x_treat = train_t['purchase'].sum() \n",
    "x_cont = train_c['purchase'].sum() \n",
    "n_treat = train_t.shape[0]\n",
    "n_cont = train_c.shape[0]\n",
    "N = train_data.shape[0]\n",
    "\n",
    "def prop_diff_test(x_cont, x_exp, n_cont, n_exp, N, alpha = 0.05, diff_null = 0):\n",
    "\n",
    "    p_cont = x_cont / n_cont\n",
    "    p_exp = x_exp / n_exp\n",
    "    p_pool = (x_cont+x_exp)/N \n",
    "    \n",
    "    se_pool = np.sqrt(\n",
    "        (p_pool*(1-p_pool))*((1/n_cont)+(1/n_exp))\n",
    "    )\n",
    "\n",
    "    z_test = ((p_exp - p_cont) - diff_null)/se_pool\n",
    "    #p_val = stats.norm.sf(abs(z_test))\n",
    "    p_val = 1-stats.norm.cdf(z_test)\n",
    "    \n",
    "    if p_val > alpha:\n",
    "        print(f'P-value: {round(p_val,5)}\\nZ-score: {round(z_test,3)}\\nFail to reject H0; There is no significant difference.')\n",
    "    else:\n",
    "        print(f'P-value: {round(p_val,5)}\\nZ-score: {round(z_test,3)}\\nReject H0; There is a significant difference.')\n",
    "\n",
    "prop_diff_test(x_cont, x_treat, n_cont, n_treat, N)"
   ]
  },
  {
   "cell_type": "code",
   "execution_count": null,
   "metadata": {},
   "outputs": [],
   "source": [
    "# Identified promotion's effect on IRR \n",
    "\n",
    "# Ho: IRRs of treatment group and control group has no difference "
   ]
  },
  {
   "cell_type": "code",
   "execution_count": null,
   "metadata": {},
   "outputs": [],
   "source": []
  },
  {
   "cell_type": "code",
   "execution_count": null,
   "metadata": {},
   "outputs": [],
   "source": [
    "def promotion_strategy(df):\n",
    "    '''\n",
    "    INPUT \n",
    "    df - a dataframe with *only* the columns V1 - V7 (same as train_data)\n",
    "\n",
    "    OUTPUT\n",
    "    promotion_df - np.array with the values\n",
    "                   'Yes' or 'No' related to whether or not an \n",
    "                   individual should recieve a promotion \n",
    "                   should be the length of df.shape[0]\n",
    "                \n",
    "    Ex:\n",
    "    INPUT: df\n",
    "    \n",
    "    V1\tV2\t  V3\tV4\tV5\tV6\tV7\n",
    "    2\t30\t-1.1\t1\t1\t3\t2\n",
    "    3\t32\t-0.6\t2\t3\t2\t2\n",
    "    2\t30\t0.13\t1\t1\t4\t2\n",
    "    \n",
    "    OUTPUT: promotion\n",
    "    \n",
    "    array(['Yes', 'Yes', 'No'])\n",
    "    indicating the first two users would recieve the promotion and \n",
    "    the last should not.\n",
    "    '''\n",
    "    \n",
    "    \n",
    "    \n",
    "    \n",
    "    return promotion"
   ]
  },
  {
   "cell_type": "code",
   "execution_count": null,
   "metadata": {},
   "outputs": [],
   "source": [
    "# This will test your results, and provide you back some information \n",
    "# on your how well your promotion_strategy will work in practice\n",
    "\n",
    "test_results(promotion_strategy)"
   ]
  }
 ],
 "metadata": {
  "kernelspec": {
   "display_name": "Python 3",
   "language": "python",
   "name": "python3"
  },
  "language_info": {
   "codemirror_mode": {
    "name": "ipython",
    "version": 3
   },
   "file_extension": ".py",
   "mimetype": "text/x-python",
   "name": "python",
   "nbconvert_exporter": "python",
   "pygments_lexer": "ipython3",
   "version": "3.7.9-final"
  }
 },
 "nbformat": 4,
 "nbformat_minor": 2
}